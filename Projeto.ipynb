{
 "cells": [
  {
   "cell_type": "markdown",
   "metadata": {},
   "source": [
    "## Projeto - Machine Learning\n"
   ]
  },
  {
   "cell_type": "markdown",
   "metadata": {},
   "source": [
    "Passo 1 - Análise dos dados"
   ]
  },
  {
   "cell_type": "code",
   "execution_count": null,
   "metadata": {},
   "outputs": [],
   "source": [
    "import pandas as pd\n",
    "import matplotlib.pyplot as plt\n",
    "from sklearn.model_selection import train_test_split\n",
    "from sklearn.tree import DecisionTreeClassifier\n",
    "from sklearn.metrics import classification_report, confusion_matrix\n",
    "from sklearn import tree\n",
    "\n",
    "df = pd.read_csv(\"BitcoinHeistData.csv\")"
   ]
  },
  {
   "cell_type": "code",
   "execution_count": null,
   "metadata": {},
   "outputs": [],
   "source": [
    "tamanho_df = df.shape\n",
    "print(f\"O dataframe tem o seguinte tamanho {tamanho_df}\")\n",
    "print(df.head(5))"
   ]
  },
  {
   "cell_type": "markdown",
   "metadata": {},
   "source": [
    "Paso 1.2 - Análise das variáveis"
   ]
  },
  {
   "cell_type": "markdown",
   "metadata": {},
   "source": [
    "| Nome    | Tipo   | Descrição |\n",
    "|---------|--------|-----------|\n",
    "| address   | string |Endereço do destinátario exclusivo|\n",
    "| year      | int    |Ano em que foi realizada a transação|\n",
    "| day       | int    |Dia do ano em que foi realizada a transação|\n",
    "| length    | int    |Número de mixing rounds - Dificulta o rastreio da fonte da transação através da mistura de bitcoins com outros utilizadores|\n",
    "| weight    | float  |Referente à diferença entre o número de inputs e o outputs das transações - Pode haver várias inputs para uma única output - Fluxo|\n",
    "| count     | int    |Conta o número de transações|\n",
    "| looped    | int    |Conta o número de transações para um endereço através de mais que um caminho|\n",
    "| neighbors | int    |Número de transações referentes a cada Bitcoin|\n",
    "| income    | int    |Rendimento recebido no endereço|\n",
    "| label     | string |Natureza da transição (Ransomware ou legitimo)|\n"
   ]
  },
  {
   "cell_type": "markdown",
   "metadata": {},
   "source": [
    "Passo 1.3 - Análise gráfica das variáveis\n",
    "\n",
    "Número de transações por ano"
   ]
  },
  {
   "cell_type": "code",
   "execution_count": null,
   "metadata": {},
   "outputs": [],
   "source": [
    "transacoes_por_ano = df[\"year\"].value_counts().sort_index(ascending=True)\n",
    "print(transacoes_por_ano)\n",
    "plt.figure(figsize=(10,10))\n",
    "plt.pie(transacoes_por_ano, labels = transacoes_por_ano.index, autopct = \"%1.1f%%\" )\n",
    "plt.title(\"Transações por ano\", weight = 'bold')\n",
    "plt.legend(title = \"Ano\", loc = \"best\")\n",
    "plt.show"
   ]
  },
  {
   "cell_type": "markdown",
   "metadata": {},
   "source": [
    "Número de transações por dia"
   ]
  },
  {
   "cell_type": "code",
   "execution_count": null,
   "metadata": {},
   "outputs": [],
   "source": [
    "transacoes_por_dia = df[\"day\"].value_counts().sort_index(ascending=True)\n",
    "print(transacoes_por_dia)\n",
    "plt.figure(figsize=(30,10))\n",
    "plt.scatter(transacoes_por_dia.index, transacoes_por_dia.values, s=150)  # 's' define o tamanho dos pontos\n",
    "plt.title(\"Transações por Dia\", weight='bold')\n",
    "plt.xlabel(\"Dias\")\n",
    "plt.ylabel(\"Número de Transações\")\n",
    "plt.show()"
   ]
  },
  {
   "cell_type": "markdown",
   "metadata": {},
   "source": [
    "Número de mixing rounds"
   ]
  },
  {
   "cell_type": "code",
   "execution_count": null,
   "metadata": {},
   "outputs": [],
   "source": [
    "numero_mixing_rounds = df[\"length\"].value_counts().sort_index(ascending=True)\n",
    "print(numero_mixing_rounds)\n",
    "plt.figure(figsize=(30, 10))\n",
    "plt.step(numero_mixing_rounds.index, numero_mixing_rounds.values, where='mid', label=\"Número de Mixing Rounds\")\n",
    "plt.title(\"Distribuição de Mixing Rounds\", weight='bold')\n",
    "plt.xlabel(\"Mixing Rounds\")\n",
    "plt.ylabel(\"Número de Transações\")\n",
    "plt.legend(title=\"Mixing Rounds\", loc=\"best\")\n",
    "plt.show()"
   ]
  },
  {
   "cell_type": "markdown",
   "metadata": {},
   "source": [
    "Count"
   ]
  },
  {
   "cell_type": "code",
   "execution_count": null,
   "metadata": {},
   "outputs": [],
   "source": [
    "transacoes = df[\"count\"].value_counts().sort_index(ascending=True)\n",
    "print(transacoes)\n",
    "plt.figure(figsize=(30, 10))\n",
    "plt.hist(df['count'], bins=30, color='skyblue', edgecolor='black')\n",
    "plt.title('Distribuição do Número de Transações', weight='bold')\n",
    "plt.xlabel('Número de Transações')\n",
    "plt.ylabel('Frequência')\n",
    "plt.show()"
   ]
  },
  {
   "cell_type": "markdown",
   "metadata": {},
   "source": [
    "Weight"
   ]
  },
  {
   "cell_type": "code",
   "execution_count": null,
   "metadata": {},
   "outputs": [],
   "source": [
    "weight = df[\"weight\"].value_counts().sort_index(ascending=True)\n",
    "print(weight)\n",
    "plt.figure(figsize=(10,7))\n",
    "plt.hexbin(weight.index, weight.values, bins=(50, 50), cmap=plt.cm.Reds)\n",
    "plt.xlabel('Eixo X')\n",
    "plt.ylabel('Eixo Y')\n",
    "plt.title('Weight')\n",
    "plt.colorbar()\n",
    "plt.show()\n"
   ]
  },
  {
   "cell_type": "markdown",
   "metadata": {},
   "source": [
    "Income\n"
   ]
  },
  {
   "cell_type": "code",
   "execution_count": null,
   "metadata": {},
   "outputs": [],
   "source": [
    "label = df[\"income\"].value_counts().sort_index(ascending=True)\n",
    "print(label)\n",
    "plt.figure(figsize=(30,10))\n",
    "plt.plot(label.index, label.values)\n",
    "plt.show()"
   ]
  },
  {
   "cell_type": "markdown",
   "metadata": {},
   "source": [
    "Neighbors"
   ]
  },
  {
   "cell_type": "code",
   "execution_count": null,
   "metadata": {},
   "outputs": [],
   "source": [
    "neighbors = df[\"neighbors\"].value_counts().sort_index(ascending=True)\n",
    "print(neighbors)\n",
    "plt.figure(figsize=(10,10))\n",
    "plt.hist(neighbors, bins=30)\n",
    "plt.title(\"Número de transações referentes a cada Bitcoin\", weight = 'bold')\n",
    "plt.legend(title = \"Ano\", loc = \"best\")\n",
    "plt.show()"
   ]
  },
  {
   "cell_type": "markdown",
   "metadata": {},
   "source": [
    "Pré-processamento de dados"
   ]
  },
  {
   "cell_type": "code",
   "execution_count": null,
   "metadata": {},
   "outputs": [],
   "source": [
    "null_values = df.isnull().sum()\n",
    "print(\"Número de nulos em cada coluna:\\n \", null_values)"
   ]
  },
  {
   "cell_type": "code",
   "execution_count": null,
   "metadata": {},
   "outputs": [],
   "source": [
    "duplicates = df.duplicated().sum()\n",
    "print(\"Número de duplicados em cada coluna:\\n \", duplicates)"
   ]
  },
  {
   "cell_type": "markdown",
   "metadata": {},
   "source": [
    "Substituição dos dados de strings em numeros"
   ]
  },
  {
   "cell_type": "code",
   "execution_count": null,
   "metadata": {},
   "outputs": [],
   "source": [
    "valores_unicos = df['label'].unique()\n",
    "print(valores_unicos)\n",
    "\n",
    "df.replace({'label':{'montrealWannaCry':0, 'montrealDMALockerv3':1,\n",
    " 'montrealCryptoTorLocker2015':2, 'montrealSamSam':3, 'montrealFlyper':4,\n",
    " 'montrealNoobCrypt':5, 'montrealDMALocker':6, 'montrealGlobe':7, 'montrealEDA2':8,\n",
    " 'paduaKeRanger':9, 'montrealVenusLocker':10, 'montrealXTPLocker':11, 'paduaJigsaw':12,\n",
    " 'montrealGlobev3':13, 'montrealJigSaw':14, 'montrealXLockerv5.0':15,\n",
    " 'montrealXLocker':16, 'montrealRazy':17, 'montrealCryptConsole':18,\n",
    " 'montrealGlobeImposter':19, 'montrealSam':20, 'montrealComradeCircle':21,\n",
    " 'montrealAPT':22, 'white':23, 'pr':24, 'princetonLockyincetonCerber':25, 'princetonCerber':26,\n",
    " 'princetonLocky':27, 'montrealCryptoLocker':28, 'montrealCryptXXX':29, 'paduaCryptoWall':30}},inplace=True)\n",
    "\n",
    "#df.drop('adress', axis=1)\n",
    "\n",
    "df['label'].head()"
   ]
  },
  {
   "cell_type": "markdown",
   "metadata": {},
   "source": [
    "Conjuntos de treino e de teste"
   ]
  },
  {
   "cell_type": "code",
   "execution_count": null,
   "metadata": {},
   "outputs": [],
   "source": [
    "X = df[['year', 'day', 'length', 'weight', 'count', 'looped', 'neighbors', 'income']]\n",
    "y = df['label']\n",
    "\n",
    "# Dividir o dataset em conjuntos de treinamento e teste\n",
    "X_train, X_test, y_train, y_test = train_test_split(X, y, test_size=0.3, random_state=42)\n",
    "\n",
    "print(X.head())\n",
    "print(y.head())"
   ]
  },
  {
   "cell_type": "markdown",
   "metadata": {},
   "source": [
    "Criação e treino do modelo"
   ]
  },
  {
   "cell_type": "code",
   "execution_count": null,
   "metadata": {},
   "outputs": [],
   "source": [
    "clf = DecisionTreeClassifier()\n",
    "clf.fit(X_train, y_train)\n",
    "\n",
    "y_pred = clf.predict(X_test)"
   ]
  },
  {
   "cell_type": "markdown",
   "metadata": {},
   "source": [
    "Avaliação e classificação do modelo"
   ]
  },
  {
   "cell_type": "code",
   "execution_count": null,
   "metadata": {},
   "outputs": [],
   "source": [
    "\n",
    "print(\"Relatório de Classificação:\\n\", classification_report(y_test, y_pred))\n",
    "\n",
    "print(\"Matriz de Confusão:\\n\", confusion_matrix(y_test, y_pred))"
   ]
  },
  {
   "cell_type": "markdown",
   "metadata": {},
   "source": [
    "Visualização da Arvore"
   ]
  },
  {
   "cell_type": "code",
   "execution_count": null,
   "metadata": {},
   "outputs": [],
   "source": [
    "plt.figure(figsize=(20,10))\n",
    "tree.plot_tree(clf, filled=True, rounded=True, proportion=False)\n",
    "plt.title(\"Árvore de Decisão\")\n",
    "plt.show()"
   ]
  }
 ],
 "metadata": {
  "kernelspec": {
   "display_name": "Python 3",
   "language": "python",
   "name": "python3"
  },
  "language_info": {
   "codemirror_mode": {
    "name": "ipython",
    "version": 3
   },
   "file_extension": ".py",
   "mimetype": "text/x-python",
   "name": "python",
   "nbconvert_exporter": "python",
   "pygments_lexer": "ipython3",
   "version": "3.12.0"
  }
 },
 "nbformat": 4,
 "nbformat_minor": 2
}
